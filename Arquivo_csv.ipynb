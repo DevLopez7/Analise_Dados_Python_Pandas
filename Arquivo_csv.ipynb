{
  "nbformat": 4,
  "nbformat_minor": 0,
  "metadata": {
    "colab": {
      "provenance": [],
      "collapsed_sections": []
    },
    "kernelspec": {
      "name": "python3",
      "display_name": "Python 3"
    },
    "language_info": {
      "name": "python"
    }
  },
  "cells": [
    {
      "cell_type": "markdown",
      "source": [
        "### Pandas"
      ],
      "metadata": {
        "id": "lgkmpggoSB5o"
      }
    },
    {
      "cell_type": "code",
      "source": [
        "#Importando a biblioteca pandas.\n",
        "import pandas as pd\n",
        "\n"
      ],
      "metadata": {
        "id": "ZTlm1RaL66ro"
      },
      "execution_count": null,
      "outputs": []
    },
    {
      "cell_type": "code",
      "source": [
        "#Como ler um arquivo csv.\n",
        "df = pd.read_csv(\"/content/drive/MyDrive/Colab Notebooks/datasets/Gapminder.csv\", error_bad_lines=False, sep=\";\")"
      ],
      "metadata": {
        "colab": {
          "base_uri": "https://localhost:8080/"
        },
        "id": "lpMeJRKNOMfK",
        "outputId": "f522c491-0803-4fda-9be4-0c452a96c292"
      },
      "execution_count": null,
      "outputs": [
        {
          "output_type": "stream",
          "name": "stderr",
          "text": [
            "/usr/local/lib/python3.7/dist-packages/IPython/core/interactiveshell.py:3326: FutureWarning: The error_bad_lines argument has been deprecated and will be removed in a future version.\n",
            "\n",
            "\n",
            "  exec(code_obj, self.user_global_ns, self.user_ns)\n"
          ]
        }
      ]
    },
    {
      "cell_type": "code",
      "source": [
        "#Vizualizando as 5 primeiras linhas.\n",
        "print(df.head())"
      ],
      "metadata": {
        "colab": {
          "base_uri": "https://localhost:8080/"
        },
        "id": "K29YRipHEHSZ",
        "outputId": "30ecb6fd-b89c-45f2-94ba-e3e9ee59b487"
      },
      "execution_count": null,
      "outputs": [
        {
          "output_type": "stream",
          "name": "stdout",
          "text": [
            "       country continent  year  lifeExp       pop   gdpPercap\n",
            "0  Afghanistan      Asia  1952   28.801   8425333  779.445314\n",
            "1  Afghanistan      Asia  1957   30.332   9240934  820.853030\n",
            "2  Afghanistan      Asia  1962   31.997  10267083  853.100710\n",
            "3  Afghanistan      Asia  1967   34.020  11537966  836.197138\n",
            "4  Afghanistan      Asia  1972   36.088  13079460  739.981106\n"
          ]
        }
      ]
    },
    {
      "cell_type": "code",
      "source": [
        "#Substituindo o nome das colunas e mostrando somente 10 colunas.\n",
        "df = df.rename(columns={\"country\" : \"País\", \"continent\" : \"Continente\", \"year\" : 'Ano', \"lifeExp\" : \"Expectativa de vida\", \"pop\" : \"Pop total\", \"gdpPercap\" : \"PIB\"})\n",
        "print(df.head(10))"
      ],
      "metadata": {
        "colab": {
          "base_uri": "https://localhost:8080/"
        },
        "id": "9Dc4_zRDEr8Z",
        "outputId": "8f28227c-e75f-4bca-c2e8-631d023056ec"
      },
      "execution_count": null,
      "outputs": [
        {
          "output_type": "stream",
          "name": "stdout",
          "text": [
            "          País Continente   Ano  Expectativa de vida  Pop total         PIB\n",
            "0  Afghanistan       Asia  1952               28.801    8425333  779.445314\n",
            "1  Afghanistan       Asia  1957               30.332    9240934  820.853030\n",
            "2  Afghanistan       Asia  1962               31.997   10267083  853.100710\n",
            "3  Afghanistan       Asia  1967               34.020   11537966  836.197138\n",
            "4  Afghanistan       Asia  1972               36.088   13079460  739.981106\n",
            "5  Afghanistan       Asia  1977               38.438   14880372  786.113360\n",
            "6  Afghanistan       Asia  1982               39.854   12881816  978.011439\n",
            "7  Afghanistan       Asia  1987               40.822   13867957  852.395945\n",
            "8  Afghanistan       Asia  1992               41.674   16317921  649.341395\n",
            "9  Afghanistan       Asia  1997               41.763   22227415  635.341351\n"
          ]
        }
      ]
    },
    {
      "cell_type": "code",
      "source": [
        "#Vizualizando o total de linhas e colunas dentro do data frame.\n",
        "print(df.shape)"
      ],
      "metadata": {
        "colab": {
          "base_uri": "https://localhost:8080/"
        },
        "id": "pBVvI2EgKy6Q",
        "outputId": "f02f3393-3f63-478c-b2a2-1bebd10922be"
      },
      "execution_count": null,
      "outputs": [
        {
          "output_type": "stream",
          "name": "stdout",
          "text": [
            "(3312, 6)\n"
          ]
        }
      ]
    },
    {
      "cell_type": "code",
      "source": [
        "#Retornando apenas o nome das colunas.\n",
        "print(df.columns)"
      ],
      "metadata": {
        "colab": {
          "base_uri": "https://localhost:8080/"
        },
        "id": "PAa2f5vYQvQN",
        "outputId": "799172b4-041c-4bac-e378-3f4a1290e11f"
      },
      "execution_count": null,
      "outputs": [
        {
          "output_type": "stream",
          "name": "stdout",
          "text": [
            "Index(['País', 'Continente', 'Ano', 'Expectativa de vida', 'Pop total', 'PIB'], dtype='object')\n"
          ]
        }
      ]
    },
    {
      "cell_type": "code",
      "source": [
        "#Mostrando o tipo de dados de cada coluna.\n",
        "print(df.dtypes)"
      ],
      "metadata": {
        "colab": {
          "base_uri": "https://localhost:8080/"
        },
        "id": "qSaUXpWSQ8Pq",
        "outputId": "964e6ac4-7d4d-4fba-efd9-baece15b3c07"
      },
      "execution_count": null,
      "outputs": [
        {
          "output_type": "stream",
          "name": "stdout",
          "text": [
            "País                    object\n",
            "Continente              object\n",
            "Ano                      int64\n",
            "Expectativa de vida    float64\n",
            "Pop total                int64\n",
            "PIB                    float64\n",
            "dtype: object\n"
          ]
        }
      ]
    },
    {
      "cell_type": "code",
      "source": [
        "#Como retornar as 10 últimas linhas do conjunto de dados\n",
        "print(df.tail(10))"
      ],
      "metadata": {
        "colab": {
          "base_uri": "https://localhost:8080/"
        },
        "id": "md-dbv0DSfV6",
        "outputId": "27079cff-04bb-44c8-b6f9-450b9074b727"
      },
      "execution_count": null,
      "outputs": [
        {
          "output_type": "stream",
          "name": "stdout",
          "text": [
            "          País Continente   Ano  Expectativa de vida  Pop total         PIB\n",
            "3302  Zimbabwe     Africa  1962               52.358    4277736  527.272182\n",
            "3303  Zimbabwe     Africa  1967               53.995    4995432  569.795071\n",
            "3304  Zimbabwe     Africa  1972               55.635    5861135  799.362176\n",
            "3305  Zimbabwe     Africa  1977               57.674    6642107  685.587682\n",
            "3306  Zimbabwe     Africa  1982               60.363    7636524  788.855041\n",
            "3307  Zimbabwe     Africa  1987               62.351    9216418  706.157306\n",
            "3308  Zimbabwe     Africa  1992               60.377   10704340  693.420786\n",
            "3309  Zimbabwe     Africa  1997               46.809   11404948  792.449960\n",
            "3310  Zimbabwe     Africa  2002               39.989   11926563  672.038623\n",
            "3311  Zimbabwe     Africa  2007               43.487   12311143  469.709298\n"
          ]
        }
      ]
    },
    {
      "cell_type": "code",
      "source": [
        "#Como retornar informações estatísticas.\n",
        "print(df.describe())"
      ],
      "metadata": {
        "colab": {
          "base_uri": "https://localhost:8080/"
        },
        "id": "sfVLsq-dS88m",
        "outputId": "82fa96ce-2c87-4688-97da-592c30ef3160"
      },
      "execution_count": null,
      "outputs": [
        {
          "output_type": "stream",
          "name": "stdout",
          "text": [
            "               Ano  Expectativa de vida     Pop total            PIB\n",
            "count  3312.000000          3312.000000  3.312000e+03    3312.000000\n",
            "mean   1980.301630            65.246871  3.161489e+07   11317.115805\n",
            "std      16.927294            11.768412  1.041193e+08   11369.142739\n",
            "min    1950.000000            23.599000  5.941200e+04     241.165876\n",
            "25%    1967.000000            58.337500  2.678572e+06    2514.625266\n",
            "50%    1982.000000            69.610000  7.557218e+06    7838.505123\n",
            "75%    1996.000000            73.657750  1.958522e+07   17357.879170\n",
            "max    2007.000000            82.670000  1.318683e+09  113523.132900\n"
          ]
        }
      ]
    },
    {
      "cell_type": "code",
      "source": [
        "#Retornando os valores únicos da coluna continentes.\n",
        "print(df['Continente'].unique())"
      ],
      "metadata": {
        "colab": {
          "base_uri": "https://localhost:8080/"
        },
        "id": "tiEKnldKT14i",
        "outputId": "3f75092e-19c7-439a-e8a5-2f7e039ff570"
      },
      "execution_count": null,
      "outputs": [
        {
          "output_type": "stream",
          "name": "stdout",
          "text": [
            "['Asia' 'Europe' 'Africa' 'Americas' nan 'FSU' 'Oceania']\n"
          ]
        }
      ]
    },
    {
      "cell_type": "code",
      "source": [
        "Oceania = df.loc[df['Continente'] == \"Oceania\"]\n",
        "print(Oceania.head())"
      ],
      "metadata": {
        "colab": {
          "base_uri": "https://localhost:8080/"
        },
        "id": "9pXUFmL-VAZk",
        "outputId": "096a643c-f761-40db-b015-3052159f7709"
      },
      "execution_count": null,
      "outputs": [
        {
          "output_type": "stream",
          "name": "stdout",
          "text": [
            "     País Continente   Ano  Expectativa de vida  Pop total          PIB\n",
            "975  Fiji    Oceania  1962               56.494     421869  2039.393277\n",
            "976  Fiji    Oceania  1967               58.607     485000  2170.073285\n",
            "977  Fiji    Oceania  1972               60.642     544000  2797.759484\n",
            "978  Fiji    Oceania  1977               62.669     599339  3182.569600\n",
            "979  Fiji    Oceania  1982               64.683     658906  3209.257468\n"
          ]
        }
      ]
    },
    {
      "cell_type": "code",
      "source": [
        "print(Oceania[\"Continente\"].unique())"
      ],
      "metadata": {
        "colab": {
          "base_uri": "https://localhost:8080/"
        },
        "id": "9CQ5Z7-pVvDh",
        "outputId": "a8697bc7-934d-47f6-95eb-be7ed810ec79"
      },
      "execution_count": null,
      "outputs": [
        {
          "output_type": "stream",
          "name": "stdout",
          "text": [
            "['Oceania']\n"
          ]
        }
      ]
    },
    {
      "cell_type": "code",
      "source": [
        "#Agrupamento de dados. \"agrupando por continente e vizualiando quantos países tem para cada continente\".\n",
        "print(df.groupby(\"Continente\")[\"País\"].nunique())\n"
      ],
      "metadata": {
        "colab": {
          "base_uri": "https://localhost:8080/"
        },
        "id": "feVgqpw_WWP4",
        "outputId": "dbc6e73f-392f-4a7c-ba11-e48c9f27c4ad"
      },
      "execution_count": null,
      "outputs": [
        {
          "output_type": "stream",
          "name": "stdout",
          "text": [
            "Continente\n",
            "Africa      51\n",
            "Americas    25\n",
            "Asia        41\n",
            "Europe      35\n",
            "FSU          6\n",
            "Oceania      3\n",
            "Name: País, dtype: int64\n"
          ]
        }
      ]
    },
    {
      "cell_type": "code",
      "source": [
        "#Mostrando a expectativa de vida média para cada país.\n",
        "print(df.groupby(\"Ano\")[\"Expectativa de vida\"].mean())"
      ],
      "metadata": {
        "colab": {
          "base_uri": "https://localhost:8080/"
        },
        "id": "a_2Tq1pLX2LW",
        "outputId": "1d67c651-6ee7-4917-a018-cbca483bbfb3"
      },
      "execution_count": null,
      "outputs": [
        {
          "output_type": "stream",
          "name": "stdout",
          "text": [
            "Ano\n",
            "1950    62.002568\n",
            "1951    65.904167\n",
            "1952    49.206867\n",
            "1953    66.674563\n",
            "1954    67.459817\n",
            "1955    67.806757\n",
            "1956    67.950637\n",
            "1957    51.614590\n",
            "1958    68.815936\n",
            "1959    68.226579\n",
            "1960    68.470837\n",
            "1961    68.862480\n",
            "1962    54.035234\n",
            "1963    69.595735\n",
            "1964    70.063105\n",
            "1965    70.259881\n",
            "1966    70.447526\n",
            "1967    56.263629\n",
            "1968    70.689081\n",
            "1969    70.653896\n",
            "1970    70.961141\n",
            "1971    71.103976\n",
            "1972    58.474481\n",
            "1973    71.500338\n",
            "1974    71.778504\n",
            "1975    71.939218\n",
            "1976    72.158050\n",
            "1977    60.429090\n",
            "1978    72.717567\n",
            "1979    73.018717\n",
            "1980    73.064524\n",
            "1981    73.337399\n",
            "1982    62.365871\n",
            "1983    73.787778\n",
            "1984    74.100741\n",
            "1985    74.112222\n",
            "1986    74.452222\n",
            "1987    63.984860\n",
            "1988    74.760000\n",
            "1989    74.924444\n",
            "1990    74.283438\n",
            "1991    74.374848\n",
            "1992    65.008443\n",
            "1993    74.324545\n",
            "1994    74.456667\n",
            "1995    74.552727\n",
            "1996    75.029394\n",
            "1997    65.873799\n",
            "1998    75.569697\n",
            "1999    75.703636\n",
            "2000    76.026364\n",
            "2001    76.257879\n",
            "2002    66.835695\n",
            "2003    76.586667\n",
            "2004    76.921562\n",
            "2005    76.718667\n",
            "2006    77.887778\n",
            "2007    67.868557\n",
            "Name: Expectativa de vida, dtype: float64\n"
          ]
        }
      ]
    },
    {
      "cell_type": "code",
      "source": [
        "#Mostrando a média do PIB.\n",
        "print(df[\"PIB\"].mean())"
      ],
      "metadata": {
        "colab": {
          "base_uri": "https://localhost:8080/"
        },
        "id": "DuTf4zE9YeJ4",
        "outputId": "35ee7c39-7a90-4b1b-ac38-477516e62144"
      },
      "execution_count": null,
      "outputs": [
        {
          "output_type": "stream",
          "name": "stdout",
          "text": [
            "11317.115804696648\n"
          ]
        }
      ]
    },
    {
      "cell_type": "code",
      "source": [
        "#Mostrando a soma de todos que estão na coluna PIB.\n",
        "print(df[\"PIB\"].sum())"
      ],
      "metadata": {
        "colab": {
          "base_uri": "https://localhost:8080/"
        },
        "id": "d8TlalbkYsXT",
        "outputId": "b0216e47-1832-498e-f43c-13bc35f9c1ca"
      },
      "execution_count": null,
      "outputs": [
        {
          "output_type": "stream",
          "name": "stdout",
          "text": [
            "37482287.5451553\n"
          ]
        }
      ]
    }
  ]
}