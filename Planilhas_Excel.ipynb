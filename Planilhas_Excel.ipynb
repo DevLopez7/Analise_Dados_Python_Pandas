{
  "nbformat": 4,
  "nbformat_minor": 0,
  "metadata": {
    "colab": {
      "provenance": [],
      "collapsed_sections": [
        "FPP5vNSD3NDz",
        "x4nUJkVenkEM",
        "MrBWWJDjx36j",
        "cqDL0W9_6knX",
        "lqHeHwybCQIn"
      ]
    },
    "kernelspec": {
      "name": "python3",
      "display_name": "Python 3"
    },
    "language_info": {
      "name": "python"
    }
  },
  "cells": [
    {
      "cell_type": "markdown",
      "source": [
        "### Trabalhando com planilhas do excel."
      ],
      "metadata": {
        "id": "FPP5vNSD3NDz"
      }
    },
    {
      "cell_type": "code",
      "source": [
        "#Importando a biblioteca.\n",
        "import pandas as pd"
      ],
      "metadata": {
        "id": "3Rlitf8KNMJl"
      },
      "execution_count": null,
      "outputs": []
    },
    {
      "cell_type": "code",
      "source": [
        "#Leitura dos arquivos.\n",
        "df1 = pd.read_excel(\"/content/drive/MyDrive/Colab Notebooks/datasets/Aracaju.xlsx\")\n",
        "df2 = pd.read_excel(\"/content/drive/MyDrive/Colab Notebooks/datasets/Fortaleza.xlsx\")\n",
        "df3 = pd.read_excel(\"/content/drive/MyDrive/Colab Notebooks/datasets/Natal.xlsx\")\n",
        "df4 = pd.read_excel(\"/content/drive/MyDrive/Colab Notebooks/datasets/Recife.xlsx\")\n",
        "df5 = pd.read_excel(\"/content/drive/MyDrive/Colab Notebooks/datasets/Salvador.xlsx\")"
      ],
      "metadata": {
        "id": "89MR0z-RJnUy"
      },
      "execution_count": null,
      "outputs": []
    },
    {
      "cell_type": "code",
      "source": [
        "#Juntando todos os arquivos\n",
        "df = pd.concat([df1, df2, df3, df4, df5])"
      ],
      "metadata": {
        "id": "nD8iJIq3NXaf"
      },
      "execution_count": null,
      "outputs": []
    },
    {
      "cell_type": "code",
      "source": [
        "#Exibindo as 5 primeiras linhas.\n",
        "print(df.head())"
      ],
      "metadata": {
        "colab": {
          "base_uri": "https://localhost:8080/"
        },
        "id": "Qs8Xong6OFGU",
        "outputId": "41823525-1c67-4938-de50-c1fe73a7f74f"
      },
      "execution_count": null,
      "outputs": [
        {
          "output_type": "stream",
          "name": "stdout",
          "text": [
            "    Cidade       Data  Vendas  LojaID  Qtde\n",
            "0  Aracaju 2018-01-01  142.00    1520     1\n",
            "1  Aracaju 2018-01-01   14.21    1522     6\n",
            "2  Aracaju 2018-01-01   71.55    1520     1\n",
            "3  Aracaju 2018-01-01    3.01    1521     7\n",
            "4  Aracaju 2018-01-01   24.51    1522     8\n"
          ]
        }
      ]
    },
    {
      "cell_type": "code",
      "source": [
        "#Exibindo as 5 últimas linhas.\n",
        "print(df.tail())"
      ],
      "metadata": {
        "colab": {
          "base_uri": "https://localhost:8080/"
        },
        "id": "wKmYl6QnOeAX",
        "outputId": "7592d4c1-410f-43f0-a3bd-5eff84ebab73"
      },
      "execution_count": null,
      "outputs": [
        {
          "output_type": "stream",
          "name": "stdout",
          "text": [
            "       Cidade       Data  Vendas  LojaID  Qtde\n",
            "235  Salvador 2019-01-03   41.84    1034     1\n",
            "236  Salvador 2019-01-03  126.29    1035     3\n",
            "237  Salvador 2019-01-03   38.06    1036     3\n",
            "238  Salvador 2019-01-03  139.64    1035     1\n",
            "239  Salvador 2019-01-03  161.41    1037     3\n"
          ]
        }
      ]
    },
    {
      "cell_type": "code",
      "source": [
        "#Coletar uma amostra do cunjunto de dados.\n",
        "print(df.sample(5))"
      ],
      "metadata": {
        "colab": {
          "base_uri": "https://localhost:8080/"
        },
        "id": "0wFd1_BIfljb",
        "outputId": "40403e40-5359-4603-fe25-6ccaf52a5217"
      },
      "execution_count": null,
      "outputs": [
        {
          "output_type": "stream",
          "name": "stdout",
          "text": [
            "        Cidade       Data  Vendas  LojaID  Qtde\n",
            "147   Salvador 2019-01-02   34.50    1035     1\n",
            "52      Recife 2019-01-01   11.87     981     6\n",
            "70       Natal 2019-02-14  743.00     854     4\n",
            "140   Salvador 2019-03-02   20.79    1036     2\n",
            "109  Fortaleza 2019-03-02   18.90     982     6\n"
          ]
        }
      ]
    },
    {
      "cell_type": "code",
      "source": [
        "#Verificando o tipo de dado de cada coluna.\n",
        "print(df.dtypes)"
      ],
      "metadata": {
        "colab": {
          "base_uri": "https://localhost:8080/"
        },
        "id": "d63pucWXOj7j",
        "outputId": "98c39d2e-d868-437a-da46-7ab04d8a4015"
      },
      "execution_count": null,
      "outputs": [
        {
          "output_type": "stream",
          "name": "stdout",
          "text": [
            "Cidade            object\n",
            "Data      datetime64[ns]\n",
            "Vendas           float64\n",
            "LojaID             int64\n",
            "Qtde               int64\n",
            "dtype: object\n"
          ]
        }
      ]
    },
    {
      "cell_type": "code",
      "source": [
        "#Alterando o tipo de dado da coluna LojaID\n",
        "df[\"LojaID\"] = df[\"LojaID\"].astype(\"object\")"
      ],
      "metadata": {
        "id": "GAji5b4pf5i2"
      },
      "execution_count": null,
      "outputs": []
    },
    {
      "cell_type": "code",
      "source": [
        "print(df.dtypes)"
      ],
      "metadata": {
        "colab": {
          "base_uri": "https://localhost:8080/"
        },
        "id": "_PVE59zApK-4",
        "outputId": "6a5d6be7-8be6-4ab2-f115-070f8b6c785a"
      },
      "execution_count": null,
      "outputs": [
        {
          "output_type": "stream",
          "name": "stdout",
          "text": [
            "Cidade            object\n",
            "Data      datetime64[ns]\n",
            "Vendas           float64\n",
            "LojaID            object\n",
            "Qtde               int64\n",
            "dtype: object\n"
          ]
        }
      ]
    },
    {
      "cell_type": "code",
      "source": [
        "print(df.head())"
      ],
      "metadata": {
        "colab": {
          "base_uri": "https://localhost:8080/"
        },
        "id": "N5Z2P4o7pgzB",
        "outputId": "23b4b145-2835-4bc9-b91a-e7a32e44f279"
      },
      "execution_count": null,
      "outputs": [
        {
          "output_type": "stream",
          "name": "stdout",
          "text": [
            "    Cidade       Data  Vendas LojaID  Qtde\n",
            "0  Aracaju 2018-01-01  142.00   1520     1\n",
            "1  Aracaju 2018-01-01   14.21   1522     6\n",
            "2  Aracaju 2018-01-01   71.55   1520     1\n",
            "3  Aracaju 2018-01-01    3.01   1521     7\n",
            "4  Aracaju 2018-01-01   24.51   1522     8\n"
          ]
        }
      ]
    },
    {
      "cell_type": "markdown",
      "source": [
        "### Tratando valores faltantes"
      ],
      "metadata": {
        "id": "x4nUJkVenkEM"
      }
    },
    {
      "cell_type": "code",
      "source": [
        "#Consultando linhas com valores faltantes\n",
        "print(df.isnull().sum())"
      ],
      "metadata": {
        "colab": {
          "base_uri": "https://localhost:8080/"
        },
        "id": "ANnGj6kyno5j",
        "outputId": "6c0aeced-8647-419b-9ebc-7071a96f8e76"
      },
      "execution_count": null,
      "outputs": [
        {
          "output_type": "stream",
          "name": "stdout",
          "text": [
            "Cidade    0\n",
            "Data      0\n",
            "Vendas    0\n",
            "LojaID    0\n",
            "Qtde      0\n",
            "dtype: int64\n"
          ]
        }
      ]
    },
    {
      "cell_type": "code",
      "source": [
        "#Substituindo os valores nulos pela média.\n",
        "df[\"Vendas\"].fillna(df[\"Vendas\"].mean(), inplace=True)"
      ],
      "metadata": {
        "id": "PGVEQRsvsxXv"
      },
      "execution_count": null,
      "outputs": []
    },
    {
      "cell_type": "code",
      "source": [
        "print(df[\"Vendas\"].mean())"
      ],
      "metadata": {
        "colab": {
          "base_uri": "https://localhost:8080/"
        },
        "id": "g-tIbNo5uSbN",
        "outputId": "3dcc06f6-e936-4074-85e2-4ddd652846e1"
      },
      "execution_count": null,
      "outputs": [
        {
          "output_type": "stream",
          "name": "stdout",
          "text": [
            "122.61180089485458\n"
          ]
        }
      ]
    },
    {
      "cell_type": "code",
      "source": [
        "df.isnull().sum()"
      ],
      "metadata": {
        "colab": {
          "base_uri": "https://localhost:8080/"
        },
        "id": "VEbbrdQVtL3E",
        "outputId": "1923cb9d-f744-4707-f61d-6cf3acc75df0"
      },
      "execution_count": null,
      "outputs": [
        {
          "output_type": "execute_result",
          "data": {
            "text/plain": [
              "Cidade    0\n",
              "Data      0\n",
              "Vendas    0\n",
              "LojaID    0\n",
              "Qtde      0\n",
              "dtype: int64"
            ]
          },
          "metadata": {},
          "execution_count": 235
        }
      ]
    },
    {
      "cell_type": "code",
      "source": [
        "#Substituindo os valores nulos por zero.\n",
        "df[\"Vendas\"].fillna(0, inplace=True)"
      ],
      "metadata": {
        "id": "21DZ0F3QtPom"
      },
      "execution_count": null,
      "outputs": []
    },
    {
      "cell_type": "code",
      "source": [
        "#Apagando as linhas com valores nulos.\n",
        "df.dropna(inplace=True)"
      ],
      "metadata": {
        "id": "anKv4hXFupmY"
      },
      "execution_count": null,
      "outputs": []
    },
    {
      "cell_type": "code",
      "source": [
        "#Apagando as linhas com valores nulos com base apenas em 1 coluna.\n",
        "df.dropna(subset=[\"Vendas\"], inplace=True) "
      ],
      "metadata": {
        "id": "xR7wq2G0u12-"
      },
      "execution_count": null,
      "outputs": []
    },
    {
      "cell_type": "code",
      "source": [
        "#Removendo linhas que estejam com valores faltantes em todas as colunas.\n",
        "df.dropna(how=\"all\", inplace=True)"
      ],
      "metadata": {
        "id": "pUTUTaVQvM14"
      },
      "execution_count": null,
      "outputs": []
    },
    {
      "cell_type": "markdown",
      "source": [
        "### Criando novas colunas"
      ],
      "metadata": {
        "id": "MrBWWJDjx36j"
      }
    },
    {
      "cell_type": "code",
      "source": [
        "#Criando a coluna de receitas.\n",
        "df[\"Receita\"] = df[\"Vendas\"].mul(df['Qtde'])\n",
        "print(df.head())"
      ],
      "metadata": {
        "id": "R_IEpSARx7_a",
        "colab": {
          "base_uri": "https://localhost:8080/"
        },
        "outputId": "b2281e94-1138-4336-e69d-da4da4e2bd73"
      },
      "execution_count": null,
      "outputs": [
        {
          "output_type": "stream",
          "name": "stdout",
          "text": [
            "    Cidade       Data  Vendas LojaID  Qtde  Receita\n",
            "0  Aracaju 2018-01-01  142.00   1520     1   142.00\n",
            "1  Aracaju 2018-01-01   14.21   1522     6    85.26\n",
            "2  Aracaju 2018-01-01   71.55   1520     1    71.55\n",
            "3  Aracaju 2018-01-01    3.01   1521     7    21.07\n",
            "4  Aracaju 2018-01-01   24.51   1522     8   196.08\n"
          ]
        }
      ]
    },
    {
      "cell_type": "code",
      "source": [
        "#Achando a Qtde de produtos vendidos.\n",
        "df[\"Receita/Vendas\"] = df[\"Receita\"] / df[\"Vendas\"]\n",
        "print(df.head())"
      ],
      "metadata": {
        "id": "3ealHUG2yYod",
        "colab": {
          "base_uri": "https://localhost:8080/"
        },
        "outputId": "6db27d40-be83-44f6-c0f7-f7fba9dc1a04"
      },
      "execution_count": null,
      "outputs": [
        {
          "output_type": "stream",
          "name": "stdout",
          "text": [
            "    Cidade       Data  Vendas LojaID  Qtde  Receita  Receita/Vendas\n",
            "0  Aracaju 2018-01-01  142.00   1520     1   142.00             1.0\n",
            "1  Aracaju 2018-01-01   14.21   1522     6    85.26             6.0\n",
            "2  Aracaju 2018-01-01   71.55   1520     1    71.55             1.0\n",
            "3  Aracaju 2018-01-01    3.01   1521     7    21.07             7.0\n",
            "4  Aracaju 2018-01-01   24.51   1522     8   196.08             8.0\n"
          ]
        }
      ]
    },
    {
      "cell_type": "code",
      "source": [
        "#Retornando a maior receita.\n",
        "print(df[\"Receita\"].max())"
      ],
      "metadata": {
        "colab": {
          "base_uri": "https://localhost:8080/"
        },
        "id": "c1pR0cO1zhT3",
        "outputId": "9cb8aa88-348d-430c-a823-f44b1370e6f2"
      },
      "execution_count": null,
      "outputs": [
        {
          "output_type": "stream",
          "name": "stdout",
          "text": [
            "3544.0\n"
          ]
        }
      ]
    },
    {
      "cell_type": "code",
      "source": [
        "#Retornando a menor receita.\n",
        "print(df[\"Receita\"].min())"
      ],
      "metadata": {
        "colab": {
          "base_uri": "https://localhost:8080/"
        },
        "id": "4EH1x2UnzuXC",
        "outputId": "19b94cc6-e70b-4049-b8c1-93afcebeb031"
      },
      "execution_count": null,
      "outputs": [
        {
          "output_type": "stream",
          "name": "stdout",
          "text": [
            "3.34\n"
          ]
        }
      ]
    },
    {
      "cell_type": "code",
      "source": [
        "#nlargest para mostrar as 3 lojas que mais venderam.\n",
        "print(df.nlargest(3, \"Receita\"))"
      ],
      "metadata": {
        "colab": {
          "base_uri": "https://localhost:8080/"
        },
        "id": "JU2OF5w_z-hR",
        "outputId": "6e584e4d-660c-4f12-e1f2-9ceced016e95"
      },
      "execution_count": null,
      "outputs": [
        {
          "output_type": "stream",
          "name": "stdout",
          "text": [
            "   Cidade       Data  Vendas LojaID  Qtde  Receita  Receita/Vendas\n",
            "7   Natal 2019-03-18   886.0    853     4   3544.0             4.0\n",
            "51  Natal 2018-01-21   859.0    852     4   3436.0             4.0\n",
            "55  Natal 2019-01-08   859.0    854     4   3436.0             4.0\n"
          ]
        }
      ]
    },
    {
      "cell_type": "code",
      "source": [
        "#nsmallest para mostrar as lojas que menos venderam.\n",
        "print(df.nsmallest(3, \"Receita\"))"
      ],
      "metadata": {
        "colab": {
          "base_uri": "https://localhost:8080/"
        },
        "id": "AV5B_oIK0jsj",
        "outputId": "b30e5ec4-23e3-4c28-e794-db4a46a92970"
      },
      "execution_count": null,
      "outputs": [
        {
          "output_type": "stream",
          "name": "stdout",
          "text": [
            "      Cidade       Data  Vendas LojaID  Qtde  Receita  Receita/Vendas\n",
            "118  Aracaju 2018-01-01    3.34   1522     1     3.34             1.0\n",
            "65    Recife 2019-01-01    4.01    981     1     4.01             1.0\n",
            "92     Natal 2019-01-02    4.57   1035     1     4.57             1.0\n"
          ]
        }
      ]
    },
    {
      "cell_type": "code",
      "source": [
        "#Agrupamento por cidade.\n",
        "print(df.groupby(\"Cidade\")[\"Receita\"].sum())"
      ],
      "metadata": {
        "colab": {
          "base_uri": "https://localhost:8080/"
        },
        "id": "9zM44z2u1G25",
        "outputId": "2ab21a6f-54dd-4b92-f8ee-18040db88bd2"
      },
      "execution_count": null,
      "outputs": [
        {
          "output_type": "stream",
          "name": "stdout",
          "text": [
            "Cidade\n",
            "Aracaju       48748.25\n",
            "Fortaleza     37913.97\n",
            "Natal        167227.52\n",
            "Recife        51936.51\n",
            "Salvador      40596.73\n",
            "Name: Receita, dtype: float64\n"
          ]
        }
      ]
    },
    {
      "cell_type": "code",
      "source": [
        "#Ordenando o conjunto de dados.\n",
        "print(df.sort_values(\"Receita\", ascending=False).head(10))"
      ],
      "metadata": {
        "colab": {
          "base_uri": "https://localhost:8080/"
        },
        "id": "Ga8nHnQE1UqB",
        "outputId": "f153d477-8020-41eb-9d84-26f122df6680"
      },
      "execution_count": null,
      "outputs": [
        {
          "output_type": "stream",
          "name": "stdout",
          "text": [
            "   Cidade       Data  Vendas LojaID  Qtde  Receita  Receita/Vendas\n",
            "7   Natal 2019-03-18   886.0    853     4   3544.0             4.0\n",
            "55  Natal 2019-01-08   859.0    854     4   3436.0             4.0\n",
            "51  Natal 2018-01-21   859.0    852     4   3436.0             4.0\n",
            "30  Natal 2018-10-02   856.0    853     4   3424.0             4.0\n",
            "41  Natal 2018-05-20   835.0    852     4   3340.0             4.0\n",
            "38  Natal 2018-02-25   828.0    852     4   3312.0             4.0\n",
            "10  Natal 2018-10-27   828.0    852     4   3312.0             4.0\n",
            "69  Natal 2019-03-24   817.0    852     4   3268.0             4.0\n",
            "62  Natal 2018-02-10   793.0    854     4   3172.0             4.0\n",
            "52  Natal 2018-04-27   778.0    854     4   3112.0             4.0\n"
          ]
        }
      ]
    },
    {
      "cell_type": "markdown",
      "source": [
        "### Trabalhando com datas"
      ],
      "metadata": {
        "id": "cqDL0W9_6knX"
      }
    },
    {
      "cell_type": "code",
      "source": [
        "#Transformando a coluna de data em tipo inteiro.\n",
        "df[\"Data\"] = df[\"Data\"].astype(\"int64\")\n",
        "print(df.dtypes)"
      ],
      "metadata": {
        "colab": {
          "base_uri": "https://localhost:8080/"
        },
        "id": "8C4n9eNm6ta-",
        "outputId": "7d089a6e-b5f8-4d72-b645-992475c8b2eb"
      },
      "execution_count": null,
      "outputs": [
        {
          "output_type": "stream",
          "name": "stdout",
          "text": [
            "Cidade             object\n",
            "Data                int64\n",
            "Vendas            float64\n",
            "LojaID             object\n",
            "Qtde                int64\n",
            "Receita           float64\n",
            "Receita/Vendas    float64\n",
            "dtype: object\n"
          ]
        },
        {
          "output_type": "stream",
          "name": "stderr",
          "text": [
            "/usr/local/lib/python3.7/dist-packages/ipykernel_launcher.py:2: FutureWarning: casting datetime64[ns] values to int64 with .astype(...) is deprecated and will raise in a future version. Use .view(...) instead.\n",
            "  \n"
          ]
        }
      ]
    },
    {
      "cell_type": "code",
      "source": [
        "#Transformando a coluna de data em data.\n",
        "df[\"Data\"] = pd.to_datetime(df[\"Data\"])\n",
        "print(df.dtypes)"
      ],
      "metadata": {
        "colab": {
          "base_uri": "https://localhost:8080/"
        },
        "id": "H6jdUZLk7Q1B",
        "outputId": "f27b0207-c50a-4d2e-9f21-ea67c81f9918"
      },
      "execution_count": null,
      "outputs": [
        {
          "output_type": "stream",
          "name": "stdout",
          "text": [
            "Cidade                    object\n",
            "Data              datetime64[ns]\n",
            "Vendas                   float64\n",
            "LojaID                    object\n",
            "Qtde                       int64\n",
            "Receita                  float64\n",
            "Receita/Vendas           float64\n",
            "dtype: object\n"
          ]
        }
      ]
    },
    {
      "cell_type": "code",
      "source": [
        "#Agrupamento por ano.\n",
        "print(df.groupby(df[\"Data\"].dt.year)[\"Receita\"].sum())"
      ],
      "metadata": {
        "colab": {
          "base_uri": "https://localhost:8080/"
        },
        "id": "RRkznHL-7oSh",
        "outputId": "7867a449-d23a-406c-b005-833f8fcee4de"
      },
      "execution_count": null,
      "outputs": [
        {
          "output_type": "stream",
          "name": "stdout",
          "text": [
            "Data\n",
            "2018    118176.53\n",
            "2019    228246.45\n",
            "Name: Receita, dtype: float64\n"
          ]
        }
      ]
    },
    {
      "cell_type": "code",
      "source": [
        "#Criando uma nova coluna com o ano.\n",
        "df[\"Ano_Venda\"] = df[\"Data\"].dt.year\n",
        "print(df.sample(5))"
      ],
      "metadata": {
        "colab": {
          "base_uri": "https://localhost:8080/"
        },
        "id": "j0-lcs8M8m3b",
        "outputId": "7bb87519-6a3e-4a1c-c2e6-1e044c5cf70b"
      },
      "execution_count": null,
      "outputs": [
        {
          "output_type": "stream",
          "name": "stdout",
          "text": [
            "       Cidade       Data  Vendas LojaID  Qtde  Receita  Receita/Vendas  \\\n",
            "7    Salvador 2019-02-11    6.13   1034     2    12.26             2.0   \n",
            "177  Salvador 2019-01-02   41.19   1037     2    82.38             2.0   \n",
            "12   Salvador 2019-01-01  125.05   1034     3   375.15             3.0   \n",
            "103     Natal 2019-01-02  191.60   1034     1   191.60             1.0   \n",
            "222  Salvador 2019-01-02   43.96   1037     1    43.96             1.0   \n",
            "\n",
            "     Ano_Venda  \n",
            "7         2019  \n",
            "177       2019  \n",
            "12        2019  \n",
            "103       2019  \n",
            "222       2019  \n"
          ]
        }
      ]
    },
    {
      "cell_type": "code",
      "source": [
        "#Extraindo o mês e o dia.\n",
        "df[\"Mes_venda\"], df[\"Dia_venda\"] = (df[\"Data\"].dt.month, df[\"Data\"].dt.day)\n",
        "print(df.sample(5))"
      ],
      "metadata": {
        "colab": {
          "base_uri": "https://localhost:8080/"
        },
        "id": "jqLWqLPM-22F",
        "outputId": "25d09174-a430-4cdd-e9db-adb5f053a094"
      },
      "execution_count": null,
      "outputs": [
        {
          "output_type": "stream",
          "name": "stdout",
          "text": [
            "        Cidade       Data  Vendas LojaID  Qtde  Receita  Receita/Vendas  \\\n",
            "171      Natal 2019-01-02  136.45   1035     3   409.35             3.0   \n",
            "33    Salvador 2019-01-01  144.19   1035     2   288.38             2.0   \n",
            "53   Fortaleza 2019-01-01   11.48   1002     4    45.92             4.0   \n",
            "137  Fortaleza 2019-03-02   51.99    983     3   155.97             3.0   \n",
            "110     Recife 2019-03-02   51.98    983     6   311.88             6.0   \n",
            "\n",
            "     Ano_Venda  Mes_venda  Dia_venda  \n",
            "171       2019          1          2  \n",
            "33        2019          1          1  \n",
            "53        2019          1          1  \n",
            "137       2019          3          2  \n",
            "110       2019          3          2  \n"
          ]
        }
      ]
    },
    {
      "cell_type": "code",
      "source": [
        "#Retornando a data mais antiga.\n",
        "print(df[\"Data\"].min())"
      ],
      "metadata": {
        "colab": {
          "base_uri": "https://localhost:8080/"
        },
        "id": "pRmp9a5f_mEA",
        "outputId": "55212511-40c3-4199-f674-ef540f91152f"
      },
      "execution_count": null,
      "outputs": [
        {
          "output_type": "stream",
          "name": "stdout",
          "text": [
            "2018-01-01 00:00:00\n"
          ]
        }
      ]
    },
    {
      "cell_type": "code",
      "source": [
        "#Calculando a diferença de dias.\n",
        "df[\"Diferenca_dias\"] = df[\"Data\"] - df [\"Data\"].min()\n",
        "print(df.sample(5))"
      ],
      "metadata": {
        "colab": {
          "base_uri": "https://localhost:8080/"
        },
        "id": "czUSPZMn_vtS",
        "outputId": "283e4020-2125-48c6-89e1-f9183beb95cc"
      },
      "execution_count": null,
      "outputs": [
        {
          "output_type": "stream",
          "name": "stdout",
          "text": [
            "        Cidade       Data  Vendas LojaID  Qtde  Receita  Receita/Vendas  \\\n",
            "88   Fortaleza 2019-01-01   68.60   1004     6   411.60             6.0   \n",
            "33    Salvador 2019-01-01  144.19   1035     2   288.38             2.0   \n",
            "47     Aracaju 2018-01-01   80.46   1520     2   160.92             2.0   \n",
            "21   Fortaleza 2019-01-01   40.63   1004     3   121.89             3.0   \n",
            "219      Natal 2019-01-02   19.67   1037     2    39.34             2.0   \n",
            "\n",
            "     Ano_Venda  Mes_venda  Dia_venda Diferenca_dias  \n",
            "88        2019          1          1       365 days  \n",
            "33        2019          1          1       365 days  \n",
            "47        2018          1          1         0 days  \n",
            "21        2019          1          1       365 days  \n",
            "219       2019          1          2       366 days  \n"
          ]
        }
      ]
    },
    {
      "cell_type": "code",
      "source": [
        "#Criando coluna de trimestre.\n",
        "df[\"Trimestre_venda\"] = df[\"Data\"].dt.quarter\n",
        "print(df.sample(5))"
      ],
      "metadata": {
        "colab": {
          "base_uri": "https://localhost:8080/"
        },
        "id": "hBH4_tT-AqYc",
        "outputId": "3181fa89-d15e-4639-c119-6460966bd56e"
      },
      "execution_count": null,
      "outputs": [
        {
          "output_type": "stream",
          "name": "stdout",
          "text": [
            "       Cidade       Data  Vendas LojaID  Qtde  Receita  Receita/Vendas  \\\n",
            "127  Salvador 2019-03-02  240.61   1035     3   721.83             3.0   \n",
            "89    Aracaju 2018-01-01   10.15   1523     7    71.05             7.0   \n",
            "35   Salvador 2019-01-01  241.45   1037     1   241.45             1.0   \n",
            "30    Aracaju 2018-01-01  119.21   1520     8   953.68             8.0   \n",
            "134  Salvador 2019-03-02  125.90   1036     1   125.90             1.0   \n",
            "\n",
            "     Ano_Venda  Mes_venda  Dia_venda Diferenca_dias  Trimestre_venda  \n",
            "127       2019          3          2       425 days                1  \n",
            "89        2018          1          1         0 days                1  \n",
            "35        2019          1          1       365 days                1  \n",
            "30        2018          1          1         0 days                1  \n",
            "134       2019          3          2       425 days                1  \n"
          ]
        }
      ]
    },
    {
      "cell_type": "code",
      "source": [
        "#Filtrando as vendas de 2019 do mês de março.\n",
        "vendas_marco_19 = df.loc[(df[\"Data\"].dt.year == 2019) & (df[\"Data\"].dt.month == 3)]"
      ],
      "metadata": {
        "id": "xnewv60hA-JD"
      },
      "execution_count": null,
      "outputs": []
    },
    {
      "cell_type": "code",
      "source": [
        "print(vendas_marco_19)"
      ],
      "metadata": {
        "colab": {
          "base_uri": "https://localhost:8080/"
        },
        "id": "mgamoQf_BuIW",
        "outputId": "75827a03-767e-4ace-a5f6-5cc00236e360"
      },
      "execution_count": null,
      "outputs": [
        {
          "output_type": "stream",
          "name": "stdout",
          "text": [
            "        Cidade       Data  Vendas LojaID  Qtde  Receita  Receita/Vendas  \\\n",
            "108  Fortaleza 2019-03-02  152.89    981     4   611.56             4.0   \n",
            "109  Fortaleza 2019-03-02   18.90    982     6   113.40             6.0   \n",
            "110  Fortaleza 2019-03-02   51.98    983     6   311.88             6.0   \n",
            "111  Fortaleza 2019-03-02    8.00    981     3    24.00             3.0   \n",
            "112  Fortaleza 2019-03-02  133.59    982     1   133.59             1.0   \n",
            "..         ...        ...     ...    ...   ...      ...             ...   \n",
            "137   Salvador 2019-03-02   51.66   1036     3   154.98             3.0   \n",
            "138   Salvador 2019-03-02  212.03   1037     3   636.09             3.0   \n",
            "139   Salvador 2019-03-02  169.01   1036     1   169.01             1.0   \n",
            "140   Salvador 2019-03-02   20.79   1036     2    41.58             2.0   \n",
            "141   Salvador 2019-03-02    9.08   1036     1     9.08             1.0   \n",
            "\n",
            "     Ano_Venda  Mes_venda  Dia_venda Diferenca_dias  Trimestre_venda  \n",
            "108       2019          3          2       425 days                1  \n",
            "109       2019          3          2       425 days                1  \n",
            "110       2019          3          2       425 days                1  \n",
            "111       2019          3          2       425 days                1  \n",
            "112       2019          3          2       425 days                1  \n",
            "..         ...        ...        ...            ...              ...  \n",
            "137       2019          3          2       425 days                1  \n",
            "138       2019          3          2       425 days                1  \n",
            "139       2019          3          2       425 days                1  \n",
            "140       2019          3          2       425 days                1  \n",
            "141       2019          3          2       425 days                1  \n",
            "\n",
            "[121 rows x 12 columns]\n"
          ]
        }
      ]
    },
    {
      "cell_type": "markdown",
      "source": [
        "### Vizualização de dados"
      ],
      "metadata": {
        "id": "lqHeHwybCQIn"
      }
    },
    {
      "cell_type": "code",
      "source": [
        "print(df[\"LojaID\"].value_counts(ascending=False)) #Irá mostrar quantas vendas as lojas fizeram"
      ],
      "metadata": {
        "colab": {
          "base_uri": "https://localhost:8080/"
        },
        "id": "fqrCMPjXCnND",
        "outputId": "6ff27abe-8d2a-47ea-a988-db087d80b21f"
      },
      "execution_count": null,
      "outputs": [
        {
          "output_type": "stream",
          "name": "stdout",
          "text": [
            "1036    117\n",
            "1035    112\n",
            "1037    101\n",
            "1034     67\n",
            "983      65\n",
            "982      44\n",
            "1522     41\n",
            "1520     39\n",
            "980      36\n",
            "981      31\n",
            "1005     30\n",
            "1002     30\n",
            "852      29\n",
            "1523     29\n",
            "1004     28\n",
            "854      28\n",
            "853      26\n",
            "1521     21\n",
            "1003     20\n",
            "Name: LojaID, dtype: int64\n"
          ]
        }
      ]
    },
    {
      "cell_type": "code",
      "source": [
        "#Gráfico de barras.\n",
        "print(df[\"LojaID\"].value_counts(ascending=False).plot.bar())"
      ],
      "metadata": {
        "colab": {
          "base_uri": "https://localhost:8080/",
          "height": 298
        },
        "id": "T2uebpYtDA4G",
        "outputId": "0ba394c9-6fa7-43fd-c334-39887953ef8c"
      },
      "execution_count": null,
      "outputs": [
        {
          "output_type": "stream",
          "name": "stdout",
          "text": [
            "AxesSubplot(0.125,0.125;0.775x0.755)\n"
          ]
        },
        {
          "output_type": "display_data",
          "data": {
            "text/plain": [
              "<Figure size 432x288 with 1 Axes>"
            ],
            "image/png": "[encoded data removed]"
          },
          "metadata": {}
        }
      ]
    },
    {
      "cell_type": "code",
      "source": [
        "#Gráfico de barras horizontais do maior para o menor.\n",
        "print(df[\"LojaID\"].value_counts(ascending=True).plot.barh())"
      ],
      "metadata": {
        "colab": {
          "base_uri": "https://localhost:8080/",
          "height": 282
        },
        "id": "lNAiUm9sFjIM",
        "outputId": "b83381d4-1d8c-4178-a803-44ba3b4a6518"
      },
      "execution_count": null,
      "outputs": [
        {
          "output_type": "stream",
          "name": "stdout",
          "text": [
            "AxesSubplot(0.125,0.125;0.775x0.755)\n"
          ]
        },
        {
          "output_type": "display_data",
          "data": {
            "text/plain": [
              "<Figure size 432x288 with 1 Axes>"
            ],
            "image/png": "[encoded data removed]"
          },
          "metadata": {}
        }
      ]
    },
    {
      "cell_type": "code",
      "source": [
        "#Gráfico de pizza.\n",
        "print(df.groupby(df[\"Data\"].dt.year)[\"Receita\"].sum().plot.pie())"
      ],
      "metadata": {
        "colab": {
          "base_uri": "https://localhost:8080/",
          "height": 265
        },
        "id": "fOHggJBpGAhw",
        "outputId": "b37f1354-a025-452e-b4e9-b0098b6aa7da"
      },
      "execution_count": null,
      "outputs": [
        {
          "output_type": "stream",
          "name": "stdout",
          "text": [
            "AxesSubplot(0.260833,0.125;0.503333x0.755)\n"
          ]
        },
        {
          "output_type": "display_data",
          "data": {
            "text/plain": [
              "<Figure size 432x288 with 1 Axes>"
            ],
            "image/png": "[encoded data removed]"
          },
          "metadata": {}
        }
      ]
    },
    {
      "cell_type": "code",
      "source": [
        "  #Total de vendas por cidade.\n",
        "print(df[\"Cidade\"].value_counts())"
      ],
      "metadata": {
        "colab": {
          "base_uri": "https://localhost:8080/"
        },
        "id": "2H1q2RjlGZ7n",
        "outputId": "290a1aac-4e93-45ea-8eb4-870d59864715"
      },
      "execution_count": null,
      "outputs": [
        {
          "output_type": "stream",
          "name": "stdout",
          "text": [
            "Natal        240\n",
            "Salvador     240\n",
            "Fortaleza    142\n",
            "Recife       142\n",
            "Aracaju      130\n",
            "Name: Cidade, dtype: int64\n"
          ]
        }
      ]
    },
    {
      "cell_type": "code",
      "source": [
        "#Adcionando um título e alterando o nome dos eixos e a cor das strings.\n",
        "import matplotlib.pyplot as plt\n",
        "\n",
        "df[\"Cidade\"].value_counts().plot.bar(title= \"Total vendas por Cidade\", color=\"red\")\n",
        "plt.xlabel(\"Cidade\")\n",
        "plt.xlabel(\"Total Vendas\")"
      ],
      "metadata": {
        "colab": {
          "base_uri": "https://localhost:8080/",
          "height": 352
        },
        "id": "sLAeGKjRHGmm",
        "outputId": "06d38ca9-af51-4c22-b1b0-e83b780cd8d6"
      },
      "execution_count": null,
      "outputs": [
        {
          "output_type": "execute_result",
          "data": {
            "text/plain": [
              "Text(0.5, 0, 'Total Vendas')"
            ]
          },
          "metadata": {},
          "execution_count": 266
        },
        {
          "output_type": "display_data",
          "data": {
            "text/plain": [
              "<Figure size 432x288 with 1 Axes>"
            ],
            "image/png": "[encoded data removed]"
          },
          "metadata": {}
        }
      ]
    },
    {
      "cell_type": "code",
      "source": [
        "#Alterando o estilo.\n",
        "plt.style.use(\"ggplot\") #Link para mais estilos em (https://matplotlib.org/stable/gallery/style_sheets/style_sheets_reference.html)\n"
      ],
      "metadata": {
        "id": "-Q79abXxIEny"
      },
      "execution_count": null,
      "outputs": []
    },
    {
      "cell_type": "code",
      "source": [
        "df.groupby(df[\"Mes_venda\"])[\"Qtde\"].sum().plot(title = \"Total de produtos vendidos por mês\")\n",
        "plt.xlabel(\"Mês\")\n",
        "plt.xlabel(\"Total Produtos Vendidos\")\n",
        "plt.legend()"
      ],
      "metadata": {
        "colab": {
          "base_uri": "https://localhost:8080/",
          "height": 317
        },
        "id": "lCtp_uX2I4hr",
        "outputId": "741ffa6c-c6ed-4736-8935-09ae14cc2b47"
      },
      "execution_count": null,
      "outputs": [
        {
          "output_type": "execute_result",
          "data": {
            "text/plain": [
              "<matplotlib.legend.Legend at 0x7fec9c393190>"
            ]
          },
          "metadata": {},
          "execution_count": 276
        },
        {
          "output_type": "display_data",
          "data": {
            "text/plain": [
              "<Figure size 432x288 with 1 Axes>"
            ],
            "image/png": "[encoded data removed]"
          },
          "metadata": {}
        }
      ]
    },
    {
      "cell_type": "code",
      "source": [
        "df.groupby(df[\"Mes_venda\"])[\"Qtde\"].sum()"
      ],
      "metadata": {
        "colab": {
          "base_uri": "https://localhost:8080/"
        },
        "id": "B566XU4pK-i_",
        "outputId": "0bcfb715-001a-4493-f86b-641eddc59a84"
      },
      "execution_count": null,
      "outputs": [
        {
          "output_type": "execute_result",
          "data": {
            "text/plain": [
              "Mes_venda\n",
              "1     2208\n",
              "2      144\n",
              "3      467\n",
              "4       23\n",
              "5       17\n",
              "6       13\n",
              "7       13\n",
              "8        2\n",
              "9       10\n",
              "10      14\n",
              "11       2\n",
              "12       3\n",
              "Name: Qtde, dtype: int64"
            ]
          },
          "metadata": {},
          "execution_count": 278
        }
      ]
    },
    {
      "cell_type": "code",
      "source": [
        "#Selecionando apenas as vendas de 2019.\n",
        "df_2019 = df[df[\"Ano_Venda\"] == 2019]\n"
      ],
      "metadata": {
        "id": "6fR4sgppLX3j"
      },
      "execution_count": null,
      "outputs": []
    },
    {
      "cell_type": "code",
      "source": [
        "#Total de produtos vendidos por mês.\n",
        "df_2019.groupby(df_2019[\"Mes_venda\"])[\"Qtde\"].sum().plot(marker = \"o\")\n",
        "plt.xlabel(\"Mês\")\n",
        "plt.xlabel(\"Total de produtos vendidos\")\n",
        "plt.legend()"
      ],
      "metadata": {
        "colab": {
          "base_uri": "https://localhost:8080/",
          "height": 301
        },
        "id": "fWYEnDilL6ht",
        "outputId": "c9ca7b7a-6e55-409e-aadf-64e292397e73"
      },
      "execution_count": null,
      "outputs": [
        {
          "output_type": "execute_result",
          "data": {
            "text/plain": [
              "<matplotlib.legend.Legend at 0x7fec9c00d8d0>"
            ]
          },
          "metadata": {},
          "execution_count": 284
        },
        {
          "output_type": "display_data",
          "data": {
            "text/plain": [
              "<Figure size 432x288 with 1 Axes>"
            ],
            "image/png": "[encoded data removed]"
          },
          "metadata": {}
        }
      ]
    },
    {
      "cell_type": "code",
      "source": [
        "#Hisograma.\n",
        "plt.hist(df[\"Qtde\"], color=\"orangered\");\n",
        "\n"
      ],
      "metadata": {
        "colab": {
          "base_uri": "https://localhost:8080/",
          "height": 265
        },
        "id": "5u4JBBr-MwA9",
        "outputId": "d4a2864e-7d8c-4295-81f4-4134a499b538"
      },
      "execution_count": null,
      "outputs": [
        {
          "output_type": "display_data",
          "data": {
            "text/plain": [
              "<Figure size 432x288 with 1 Axes>"
            ],
            "image/png": "[encoded data removed]"
          },
          "metadata": {}
        }
      ]
    },
    {
      "cell_type": "code",
      "source": [
        "plt.scatter(x=df_2019[\"Dia_venda\"], y = df_2019[\"Receita\"])"
      ],
      "metadata": {
        "colab": {
          "base_uri": "https://localhost:8080/",
          "height": 282
        },
        "id": "1r_VA6blNIa9",
        "outputId": "c2211599-7b38-48e4-f866-c9bf5c9458a4"
      },
      "execution_count": null,
      "outputs": [
        {
          "output_type": "execute_result",
          "data": {
            "text/plain": [
              "<matplotlib.collections.PathCollection at 0x7fec9b6d4750>"
            ]
          },
          "metadata": {},
          "execution_count": 291
        },
        {
          "output_type": "display_data",
          "data": {
            "text/plain": [
              "<Figure size 432x288 with 1 Axes>"
            ],
            "image/png": "[encoded data removed]"
          },
          "metadata": {}
        }
      ]
    },
    {
      "cell_type": "code",
      "source": [
        "#Salvando em png.\n",
        "df_2019.groupby(df_2019[\"Mes_venda\"])[\"Qtde\"].sum().plot(marker = \"o\")\n",
        "plt.title(\"Quantidade de produtos vendidos por mês\")\n",
        "plt.xlabel(\"Mês\")\n",
        "plt.xlabel(\"Total de produtos vendidos\")\n",
        "plt.legend()\n",
        "plt.savefig(\"grafico QTDE x MES.png\")"
      ],
      "metadata": {
        "colab": {
          "base_uri": "https://localhost:8080/",
          "height": 300
        },
        "id": "vtDJ2jTzOOKW",
        "outputId": "010078d0-ea4c-4f58-ea0d-579c9b39395e"
      },
      "execution_count": null,
      "outputs": [
        {
          "output_type": "display_data",
          "data": {
            "text/plain": [
              "<Figure size 432x288 with 1 Axes>"
            ],
            "image/png": "[encoded data removed]"
          },
          "metadata": {}
        }
      ]
    }
  ]
}