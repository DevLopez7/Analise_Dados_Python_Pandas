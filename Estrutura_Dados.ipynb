{
  "nbformat": 4,
  "nbformat_minor": 0,
  "metadata": {
    "colab": {
      "provenance": [],
      "collapsed_sections": [
        "YnbB8ImUEsi0",
        "FIj2EBqYI-vk",
        "-BDyaNFpJvIt"
      ]
    },
    "kernelspec": {
      "name": "python3",
      "display_name": "Python 3"
    },
    "language_info": {
      "name": "python"
    }
  },
  "cells": [
    {
      "cell_type": "markdown",
      "source": [
        "### Estrutura de dados no Python!\n"
      ],
      "metadata": {
        "id": "in7xW32e6JPP"
      }
    },
    {
      "cell_type": "markdown",
      "source": [
        "### Listas"
      ],
      "metadata": {
        "id": "YnbB8ImUEsi0"
      }
    },
    {
      "cell_type": "code",
      "source": [
        "#Criando uma lista.\n",
        "\n",
        "animais = [1, 2, 3]\n"
      ],
      "metadata": {
        "id": "2aE5IwyfhPET"
      },
      "execution_count": null,
      "outputs": []
    },
    {
      "cell_type": "code",
      "source": [
        "animais = ['cachorro', 'gato', 12345, 6.5]\n",
        "print(animais)"
      ],
      "metadata": {
        "colab": {
          "base_uri": "https://localhost:8080/"
        },
        "id": "pdcPiTDyhklC",
        "outputId": "52bb2831-d1f8-4a85-865b-a9053362c2a7"
      },
      "execution_count": null,
      "outputs": [
        {
          "output_type": "stream",
          "name": "stdout",
          "text": [
            "['cachorro', 'gato', 12345, 6.5]\n"
          ]
        }
      ]
    },
    {
      "cell_type": "code",
      "source": [
        "#Imprimindo o primeiro elemento da lista.\n",
        "print(animais[0])"
      ],
      "metadata": {
        "colab": {
          "base_uri": "https://localhost:8080/"
        },
        "id": "Oa-UlTnAhwa1",
        "outputId": "eec67625-e099-418e-e298-df1c8fc0cb31"
      },
      "execution_count": null,
      "outputs": [
        {
          "output_type": "stream",
          "name": "stdout",
          "text": [
            "cachorro\n"
          ]
        }
      ]
    },
    {
      "cell_type": "code",
      "source": [
        "#Imprimindo o quarto elemento da lista.\n",
        "print(animais[3])"
      ],
      "metadata": {
        "colab": {
          "base_uri": "https://localhost:8080/"
        },
        "id": "gSM-QBtLh8hw",
        "outputId": "8fbb7780-0c5a-4699-b9bb-e2d606c767e4"
      },
      "execution_count": null,
      "outputs": [
        {
          "output_type": "stream",
          "name": "stdout",
          "text": [
            "6.5\n"
          ]
        }
      ]
    },
    {
      "cell_type": "code",
      "source": [
        "#Substituindo o primeiro elemento da lista.\n",
        "animais[0] = 'papagaio'\n",
        "print(animais)"
      ],
      "metadata": {
        "colab": {
          "base_uri": "https://localhost:8080/"
        },
        "id": "zPWtbjpdiFYl",
        "outputId": "43c59196-d747-4eef-ae76-1d3c8577af52"
      },
      "execution_count": null,
      "outputs": [
        {
          "output_type": "stream",
          "name": "stdout",
          "text": [
            "['papagaio', 'gato', 12345, 6.5]\n"
          ]
        }
      ]
    },
    {
      "cell_type": "code",
      "source": [
        "#Removendo o segundo elemento da lista.\n",
        "animais.remove('gato')\n",
        "print(animais)"
      ],
      "metadata": {
        "colab": {
          "base_uri": "https://localhost:8080/"
        },
        "id": "xfDw5wMLie3h",
        "outputId": "3e852285-5b4d-444f-e089-1533a4519ba4"
      },
      "execution_count": null,
      "outputs": [
        {
          "output_type": "stream",
          "name": "stdout",
          "text": [
            "['papagaio', 12345, 6.5]\n"
          ]
        }
      ]
    },
    {
      "cell_type": "code",
      "source": [
        "#Como saber o tamanho da lista.\n",
        "print(len(animais))"
      ],
      "metadata": {
        "colab": {
          "base_uri": "https://localhost:8080/"
        },
        "id": "AWjhd0lVisL9",
        "outputId": "468d23a5-63d9-48a0-cc79-2fd787d5ccfe"
      },
      "execution_count": null,
      "outputs": [
        {
          "output_type": "stream",
          "name": "stdout",
          "text": [
            "3\n"
          ]
        }
      ]
    },
    {
      "cell_type": "code",
      "source": [
        "#Como saber se um elemento está na lista.\n",
        "print('gato' in animais)"
      ],
      "metadata": {
        "colab": {
          "base_uri": "https://localhost:8080/"
        },
        "id": "OxFcdeQbjEN2",
        "outputId": "36542436-522f-4cf1-a2da-90281ee0844d"
      },
      "execution_count": null,
      "outputs": [
        {
          "output_type": "stream",
          "name": "stdout",
          "text": [
            "False\n"
          ]
        }
      ]
    },
    {
      "cell_type": "code",
      "source": [
        "#Criando outra lista\n",
        "numeros = [500, 30, 300, 80, 10]"
      ],
      "metadata": {
        "id": "_ZQ9wXMKkYCg"
      },
      "execution_count": null,
      "outputs": []
    },
    {
      "cell_type": "code",
      "source": [
        "#Como saber o maior número da lista.\n",
        "max(numeros)"
      ],
      "metadata": {
        "colab": {
          "base_uri": "https://localhost:8080/"
        },
        "id": "1udLimjmkm7n",
        "outputId": "48be3bee-e685-48c7-91e7-7c6b841c6f98"
      },
      "execution_count": null,
      "outputs": [
        {
          "output_type": "execute_result",
          "data": {
            "text/plain": [
              "500"
            ]
          },
          "metadata": {},
          "execution_count": 10
        }
      ]
    },
    {
      "cell_type": "code",
      "source": [
        "#Como saber o menor número da lista.\n",
        "min(numeros)"
      ],
      "metadata": {
        "colab": {
          "base_uri": "https://localhost:8080/"
        },
        "id": "JJZWtWY8ksKd",
        "outputId": "8c7d68c9-b167-4836-fd30-91a6ea490c98"
      },
      "execution_count": null,
      "outputs": [
        {
          "output_type": "execute_result",
          "data": {
            "text/plain": [
              "10"
            ]
          },
          "metadata": {},
          "execution_count": 11
        }
      ]
    },
    {
      "cell_type": "code",
      "source": [
        "#Como adcionar um elemento a lista.\n",
        "animais.append('leão')\n",
        "print(animais)"
      ],
      "metadata": {
        "colab": {
          "base_uri": "https://localhost:8080/"
        },
        "id": "ResHQaJEk0U5",
        "outputId": "b813ce0c-c750-4fc8-e27a-1c1b292d01a8"
      },
      "execution_count": null,
      "outputs": [
        {
          "output_type": "stream",
          "name": "stdout",
          "text": [
            "['papagaio', 12345, 6.5, 'leão']\n"
          ]
        }
      ]
    },
    {
      "cell_type": "code",
      "source": [
        "#Como adcionar mais de um elemento na lista.\n",
        "animais.extend(['cobra', 6])\n",
        "print(animais)"
      ],
      "metadata": {
        "id": "AlXGbOFWClJV",
        "colab": {
          "base_uri": "https://localhost:8080/"
        },
        "outputId": "b97b41e5-b9b4-4477-91e0-9f11c54a76c7"
      },
      "execution_count": null,
      "outputs": [
        {
          "output_type": "stream",
          "name": "stdout",
          "text": [
            "['papagaio', 12345, 6.5, 'leão', 'cobra', 6]\n"
          ]
        }
      ]
    },
    {
      "cell_type": "code",
      "source": [
        "#Como saber quantas vezes aparece a string na lista.\n",
        "animais.count('leão')"
      ],
      "metadata": {
        "colab": {
          "base_uri": "https://localhost:8080/"
        },
        "id": "lJ13mLAaD61t",
        "outputId": "0cb0e1ce-0995-4627-fb2b-545c396f26b9"
      },
      "execution_count": null,
      "outputs": [
        {
          "output_type": "execute_result",
          "data": {
            "text/plain": [
              "1"
            ]
          },
          "metadata": {},
          "execution_count": 14
        }
      ]
    },
    {
      "cell_type": "code",
      "source": [
        "#Como ordenar a lista do maior para o menor.\n",
        "numeros.sort()\n",
        "print(numeros)"
      ],
      "metadata": {
        "colab": {
          "base_uri": "https://localhost:8080/"
        },
        "id": "n4zs77-AEE4b",
        "outputId": "73cb4adf-eba5-4c2d-b906-050037019199"
      },
      "execution_count": null,
      "outputs": [
        {
          "output_type": "stream",
          "name": "stdout",
          "text": [
            "[10, 30, 80, 300, 500]\n"
          ]
        }
      ]
    },
    {
      "cell_type": "markdown",
      "source": [
        "### Tuplas"
      ],
      "metadata": {
        "id": "FIj2EBqYI-vk"
      }
    },
    {
      "cell_type": "code",
      "source": [
        "#As tuplas utilizam parênteses como sintaxe\n",
        "tupla = ('banana', 'maçã', 10, 50) "
      ],
      "metadata": {
        "id": "FYB9FvhAE9yt"
      },
      "execution_count": null,
      "outputs": []
    },
    {
      "cell_type": "code",
      "source": [
        "#Retornando o primeiro elemento de uma tupla.\n",
        "print(tupla [0])"
      ],
      "metadata": {
        "colab": {
          "base_uri": "https://localhost:8080/"
        },
        "id": "L-tKmt_jFZNS",
        "outputId": "a2c5d1c2-4c03-4348-d4df-ff05b1056d98"
      },
      "execution_count": null,
      "outputs": [
        {
          "output_type": "stream",
          "name": "stdout",
          "text": [
            "banana\n"
          ]
        }
      ]
    },
    {
      "cell_type": "code",
      "source": [
        "#Como saber quantas vezes aparece a string na tupla.\n",
        "tupla.count('maçã')"
      ],
      "metadata": {
        "id": "xVVTBkmzHlco",
        "colab": {
          "base_uri": "https://localhost:8080/"
        },
        "outputId": "e1835aa2-e7ba-4e91-8632-bcb535063307"
      },
      "execution_count": null,
      "outputs": [
        {
          "output_type": "execute_result",
          "data": {
            "text/plain": [
              "1"
            ]
          },
          "metadata": {},
          "execution_count": 50
        }
      ]
    },
    {
      "cell_type": "code",
      "source": [
        "#Como retornar itens de uma tupla.\n",
        "print(tupla[0:2])"
      ],
      "metadata": {
        "colab": {
          "base_uri": "https://localhost:8080/"
        },
        "id": "xBcE7omCIkvA",
        "outputId": "9892265c-ee9d-4cbb-f659-54b6a23df2da"
      },
      "execution_count": null,
      "outputs": [
        {
          "output_type": "stream",
          "name": "stdout",
          "text": [
            "('banana', 'maça')\n"
          ]
        }
      ]
    },
    {
      "cell_type": "markdown",
      "source": [
        "### Dicionários"
      ],
      "metadata": {
        "id": "-BDyaNFpJvIt"
      }
    },
    {
      "cell_type": "code",
      "source": [
        "#Para criar um dicionário utilizamos as {}\n",
        "dicionário = {'maçã' :20, 'banana' :10, 'laranja' :15, 'uva' :5} #Dicionários trabalham com conceito de (chaves e valores).\n",
        "print(dicionário)"
      ],
      "metadata": {
        "colab": {
          "base_uri": "https://localhost:8080/"
        },
        "id": "S6VXxCFHJ2Zz",
        "outputId": "976230a8-eff9-449d-9ffe-581c5830a3ff"
      },
      "execution_count": null,
      "outputs": [
        {
          "output_type": "stream",
          "name": "stdout",
          "text": [
            "{'maçã': 20, 'banana': 10, 'laranja': 15, 'uva': 5}\n"
          ]
        }
      ]
    },
    {
      "cell_type": "code",
      "source": [
        "#Como acessar o valor de um dicionário atráves da (chave).\n",
        "print(dicionário['maçã'])"
      ],
      "metadata": {
        "colab": {
          "base_uri": "https://localhost:8080/"
        },
        "id": "KLLvWkw-LNUK",
        "outputId": "16340991-5b7c-4cbc-c6a0-4f3f277dd20c"
      },
      "execution_count": null,
      "outputs": [
        {
          "output_type": "stream",
          "name": "stdout",
          "text": [
            "20\n"
          ]
        }
      ]
    },
    {
      "cell_type": "code",
      "source": [
        "#Atualizando o valor da maçã.\n",
        "dicionário['maçã'] = 25 \n",
        "print(dicionário)"
      ],
      "metadata": {
        "colab": {
          "base_uri": "https://localhost:8080/"
        },
        "id": "0V-2RBSJMBno",
        "outputId": "c83d2c31-1fd3-477c-9873-436186477e97"
      },
      "execution_count": null,
      "outputs": [
        {
          "output_type": "stream",
          "name": "stdout",
          "text": [
            "{'maçã': 25, 'banana': 10, 'laranja': 15, 'uva': 5}\n"
          ]
        }
      ]
    },
    {
      "cell_type": "code",
      "source": [
        "#Retornando todas as chaves do dicionário.\n",
        "print(dicionário.keys())"
      ],
      "metadata": {
        "colab": {
          "base_uri": "https://localhost:8080/"
        },
        "id": "IS81Pv8lMyuW",
        "outputId": "172822f2-0e3f-4152-de43-51896cb5c8fd"
      },
      "execution_count": null,
      "outputs": [
        {
          "output_type": "stream",
          "name": "stdout",
          "text": [
            "dict_keys(['maçã', 'banana', 'laranja', 'uva'])\n"
          ]
        }
      ]
    },
    {
      "cell_type": "code",
      "source": [
        "#Retornando os valores do dicionário.\n",
        "print(dicionário.values())"
      ],
      "metadata": {
        "colab": {
          "base_uri": "https://localhost:8080/"
        },
        "id": "fJXPVEzZNBLY",
        "outputId": "706fcc01-b6dc-4edc-8a66-6b55cbd218f2"
      },
      "execution_count": null,
      "outputs": [
        {
          "output_type": "stream",
          "name": "stdout",
          "text": [
            "dict_values([25, 10, 15, 5])\n"
          ]
        }
      ]
    },
    {
      "cell_type": "code",
      "source": [
        " #Verificando se já existe uma chave no dicionário e caso não exista inserir.\n",
        " dicionário.setdefault('limão', 22)\n",
        " print(dicionário)\n"
      ],
      "metadata": {
        "colab": {
          "base_uri": "https://localhost:8080/"
        },
        "id": "Jl1N0CdKNTxw",
        "outputId": "1fb99255-a0b9-4959-9be3-bad01e30ec86"
      },
      "execution_count": null,
      "outputs": [
        {
          "output_type": "stream",
          "name": "stdout",
          "text": [
            "{'maçã': 25, 'banana': 10, 'laranja': 15, 'uva': 5, 'limão': 22}\n"
          ]
        }
      ]
    }
  ]
}